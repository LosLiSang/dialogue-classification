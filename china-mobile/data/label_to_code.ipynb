{
 "cells": [
  {
   "cell_type": "code",
   "execution_count": 1,
   "metadata": {},
   "outputs": [
    {
     "data": {
      "text/plain": [
       "['投诉（含抱怨）', '1\\n']"
      ]
     },
     "execution_count": 1,
     "metadata": {},
     "output_type": "execute_result"
    }
   ],
   "source": [
    "data_filename = \"data.txt\"\n",
    "label_filename = \"label.txt\"\n",
    "label_map = {}\n",
    "with open(file=label_filename, mode=\"r\") as f:\n",
    "    lines = f.readlines()\n",
    "\n",
    "lines[0].split(\" \")\n"
   ]
  },
  {
   "cell_type": "code",
   "execution_count": 2,
   "metadata": {},
   "outputs": [
    {
     "data": {
      "text/plain": [
       "{'投诉（含抱怨）': '1',\n",
       " '办理': '2',\n",
       " '咨询（含查询）': '3',\n",
       " '表扬及建议': '4',\n",
       " '特殊来电': '5',\n",
       " '转归属地10086': '6',\n",
       " '非移动业务': '7',\n",
       " 'c': '8',\n",
       " '非来电': '9'}"
      ]
     },
     "execution_count": 2,
     "metadata": {},
     "output_type": "execute_result"
    }
   ],
   "source": [
    "label_to_code = {line.split(\" \")[0]: line.split(\" \")[1].strip() for line in lines}\n",
    "label_to_code"
   ]
  },
  {
   "cell_type": "code",
   "execution_count": 3,
   "metadata": {},
   "outputs": [],
   "source": [
    "with open(file=data_filename, mode=\"r\") as f:\n",
    "    lines = f.readlines()\n",
    "\n",
    "lines = [line.strip() for line in lines]\n",
    "lines\n",
    "\n",
    "datas = [[line.split(\"\\t\")[0], label_to_code.get(line.split(\"\\t\")[1])] for line in lines]"
   ]
  },
  {
   "cell_type": "code",
   "execution_count": 4,
   "metadata": {},
   "outputs": [],
   "source": [
    "lines = [\"\\t\".join(data) + \"\\n\" for data in datas]\n",
    "with open(\"data_code.txt\", mode=\"w\") as f:\n",
    "    f.writelines(lines)"
   ]
  },
  {
   "cell_type": "code",
   "execution_count": null,
   "metadata": {},
   "outputs": [],
   "source": []
  }
 ],
 "metadata": {
  "kernelspec": {
   "display_name": "Python37",
   "language": "python",
   "name": "python3"
  },
  "language_info": {
   "codemirror_mode": {
    "name": "ipython",
    "version": 3
   },
   "file_extension": ".py",
   "mimetype": "text/x-python",
   "name": "python",
   "nbconvert_exporter": "python",
   "pygments_lexer": "ipython3",
   "version": "3.7.16"
  }
 },
 "nbformat": 4,
 "nbformat_minor": 2
}
